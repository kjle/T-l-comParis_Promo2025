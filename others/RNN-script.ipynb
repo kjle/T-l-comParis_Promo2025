{
 "cells": [
  {
   "cell_type": "code",
   "execution_count": 2,
   "metadata": {},
   "outputs": [],
   "source": [
    "import numpy as np\n",
    "import matplotlib.pyplot as plt\n",
    "\n",
    "import torch\n",
    "\n",
    "from torchinfo import summary"
   ]
  },
  {
   "cell_type": "markdown",
   "metadata": {},
   "source": [
    "# RNN\n",
    "\n",
    "## Single layer RNN"
   ]
  },
  {
   "cell_type": "code",
   "execution_count": 3,
   "metadata": {},
   "outputs": [
    {
     "data": {
      "text/plain": [
       "==========================================================================================\n",
       "Layer (type:depth-idx)                   Output Shape              Param #\n",
       "==========================================================================================\n",
       "SingleRNN                                [1, 35]                   --\n",
       "├─Linear: 1-1                            [256, 13]                 845\n",
       "├─Linear: 1-2                            [1, 256, 13]              182\n",
       "├─Tanh: 1-3                              [1, 256, 13]              --\n",
       "├─Linear: 1-4                            [1, 256, 35]              490\n",
       "├─Softmax: 1-5                           [1, 35]                   --\n",
       "==========================================================================================\n",
       "Total params: 1,517\n",
       "Trainable params: 1,517\n",
       "Non-trainable params: 0\n",
       "Total mult-adds (Units.MEGABYTES): 0.22\n",
       "==========================================================================================\n",
       "Input size (MB): 0.07\n",
       "Forward/backward pass size (MB): 0.12\n",
       "Params size (MB): 0.01\n",
       "Estimated Total Size (MB): 0.20\n",
       "=========================================================================================="
      ]
     },
     "execution_count": 3,
     "metadata": {},
     "output_type": "execute_result"
    }
   ],
   "source": [
    "class SingleRNN(torch.nn.Module):\n",
    "    def __init__(self, input_size, hidden_size, output_size):\n",
    "        super(SingleRNN, self).__init__()\n",
    "        self.input_size = input_size\n",
    "        self.hidden_size = hidden_size\n",
    "        self.output_size = output_size\n",
    "        self.Wxh = torch.nn.Linear(input_size, hidden_size)\n",
    "        self.Whh = torch.nn.Linear(hidden_size, hidden_size)\n",
    "        self.Why = torch.nn.Linear(hidden_size, output_size)\n",
    "        self.tanh = torch.nn.Tanh()\n",
    "        self.softmax = torch.nn.Softmax(dim=1)\n",
    "        \n",
    "    def forward(self, x):\n",
    "        hidden = torch.zeros(1, x.size(0), self.hidden_size).to(x.device)\n",
    "        hidden = self.tanh(self.Wxh(x) + self.Whh(hidden))\n",
    "        output = self.Why(hidden)\n",
    "        output = self.softmax(output[:, -1])\n",
    "        return output\n",
    "    \n",
    "sRNN = SingleRNN(64, 13, 35)\n",
    "summary(sRNN, input_size=(256, 64))"
   ]
  },
  {
   "cell_type": "code",
   "execution_count": 4,
   "metadata": {},
   "outputs": [
    {
     "data": {
      "text/plain": [
       "==========================================================================================\n",
       "Layer (type:depth-idx)                   Output Shape              Param #\n",
       "==========================================================================================\n",
       "SingleRNN2                               [1, 35]                   1,504\n",
       "├─Tanh: 1-1                              [1, 256, 13]              --\n",
       "├─Softmax: 1-2                           [1, 256, 35]              --\n",
       "==========================================================================================\n",
       "Total params: 1,504\n",
       "Trainable params: 1,504\n",
       "Non-trainable params: 0\n",
       "Total mult-adds (Units.MEGABYTES): 0\n",
       "==========================================================================================\n",
       "Input size (MB): 0.07\n",
       "Forward/backward pass size (MB): 0.00\n",
       "Params size (MB): 0.00\n",
       "Estimated Total Size (MB): 0.07\n",
       "=========================================================================================="
      ]
     },
     "execution_count": 4,
     "metadata": {},
     "output_type": "execute_result"
    }
   ],
   "source": [
    "class SingleRNN2(torch.nn.Module):\n",
    "    def __init__(self, input_size, hidden_size, output_size):\n",
    "        super(SingleRNN2, self).__init__()\n",
    "        self.input_size = input_size\n",
    "        self.hidden_size = hidden_size\n",
    "        self.output_size = output_size \n",
    "\n",
    "        self.Wxh = torch.nn.Parameter(torch.randn(input_size, hidden_size).float())\n",
    "        self.Whh = torch.nn.Parameter(torch.randn(hidden_size, hidden_size).float())\n",
    "        self.Why = torch.nn.Parameter(torch.randn(hidden_size, output_size).float())\n",
    "        self.bh = torch.nn.Parameter(torch.zeros(1, hidden_size).float())\n",
    "        self.by = torch.nn.Parameter(torch.zeros(1, output_size).float())\n",
    "\n",
    "        self.tanh = torch.nn.Tanh()\n",
    "        self.softmax = torch.nn.Softmax(dim=1)\n",
    "\n",
    "    def forward(self, x):\n",
    "        hidden = torch.zeros(1, x.size(0), self.hidden_size).to(x.device)\n",
    "\n",
    "        u = torch.matmul(x, self.Wxh) + torch.matmul(hidden, self.Whh) + self.bh\n",
    "        hidden = self.tanh(u)\n",
    "        output = torch.matmul(hidden, self.Why) + self.by\n",
    "        output = self.softmax(output)\n",
    "        return output[:,-1]\n",
    "        \n",
    "sRNN2 = SingleRNN2(64, 13, 35)\n",
    "summary(sRNN2, input_size=(256, 64))\n",
    "    "
   ]
  },
  {
   "cell_type": "markdown",
   "metadata": {},
   "source": [
    "## Multi layer RNN"
   ]
  },
  {
   "cell_type": "code",
   "execution_count": 5,
   "metadata": {},
   "outputs": [
    {
     "data": {
      "text/plain": [
       "==========================================================================================\n",
       "Layer (type:depth-idx)                   Output Shape              Param #\n",
       "==========================================================================================\n",
       "MultiRNN                                 [3, 35]                   --\n",
       "├─Linear: 1-1                            [256, 13]                 845\n",
       "├─Linear: 1-2                            [3, 256, 13]              182\n",
       "├─Tanh: 1-3                              [3, 256, 13]              --\n",
       "├─Linear: 1-4                            [3, 256, 35]              490\n",
       "├─Softmax: 1-5                           [3, 35]                   --\n",
       "==========================================================================================\n",
       "Total params: 1,517\n",
       "Trainable params: 1,517\n",
       "Non-trainable params: 0\n",
       "Total mult-adds (Units.MEGABYTES): 0.22\n",
       "==========================================================================================\n",
       "Input size (MB): 0.07\n",
       "Forward/backward pass size (MB): 0.32\n",
       "Params size (MB): 0.01\n",
       "Estimated Total Size (MB): 0.39\n",
       "=========================================================================================="
      ]
     },
     "execution_count": 5,
     "metadata": {},
     "output_type": "execute_result"
    }
   ],
   "source": [
    "class MultiRNN(torch.nn.Module):\n",
    "    def __init__(self, input_size, hidden_size, layer_num, output_size):\n",
    "        super(MultiRNN, self).__init__()\n",
    "        self.input_size = input_size\n",
    "        self.hidden_size = hidden_size\n",
    "        self.layer_num = layer_num\n",
    "        self.output_size = output_size\n",
    "\n",
    "        self.Wxh = torch.nn.Linear(input_size, hidden_size)\n",
    "        self.Whh = torch.nn.Linear(hidden_size, hidden_size)\n",
    "        self.Why = torch.nn.Linear(hidden_size, output_size)\n",
    "        self.tanh = torch.nn.Tanh()\n",
    "        self.softmax = torch.nn.Softmax(dim=1)\n",
    "        \n",
    "    def forward(self, x):\n",
    "        hidden = torch.zeros(self.layer_num, x.size(0), self.hidden_size).to(x.device)\n",
    "        hidden = self.tanh(self.Wxh(x) + self.Whh(hidden))\n",
    "        output = self.Why(hidden)\n",
    "        output = self.softmax(output[:, -1])\n",
    "        return output\n",
    "    \n",
    "mRNN = MultiRNN(64, 13, 3, 35)\n",
    "summary(mRNN, input_size=(256, 64))"
   ]
  },
  {
   "cell_type": "code",
   "execution_count": 6,
   "metadata": {},
   "outputs": [
    {
     "data": {
      "text/plain": [
       "==========================================================================================\n",
       "Layer (type:depth-idx)                   Output Shape              Param #\n",
       "==========================================================================================\n",
       "MultiRNN2                                [3, 35]                   1,504\n",
       "├─Tanh: 1-1                              [3, 256, 13]              --\n",
       "├─Softmax: 1-2                           [3, 256, 35]              --\n",
       "==========================================================================================\n",
       "Total params: 1,504\n",
       "Trainable params: 1,504\n",
       "Non-trainable params: 0\n",
       "Total mult-adds (Units.MEGABYTES): 0\n",
       "==========================================================================================\n",
       "Input size (MB): 0.07\n",
       "Forward/backward pass size (MB): 0.00\n",
       "Params size (MB): 0.00\n",
       "Estimated Total Size (MB): 0.07\n",
       "=========================================================================================="
      ]
     },
     "execution_count": 6,
     "metadata": {},
     "output_type": "execute_result"
    }
   ],
   "source": [
    "class MultiRNN2(torch.nn.Module):\n",
    "    def __init__(self, input_size, hidden_size, layer_num, output_size):\n",
    "        super(MultiRNN2, self).__init__()\n",
    "        self.input_size = input_size\n",
    "        self.hidden_size = hidden_size\n",
    "        self.layer_num = layer_num\n",
    "        self.output_size = output_size \n",
    "\n",
    "        self.Wxh = torch.nn.Parameter(torch.randn(input_size, hidden_size).float())\n",
    "        self.Whh = torch.nn.Parameter(torch.randn(hidden_size, hidden_size).float())\n",
    "        self.Why = torch.nn.Parameter(torch.randn(hidden_size, output_size).float())\n",
    "        self.bh = torch.nn.Parameter(torch.zeros(1, hidden_size).float())\n",
    "        self.by = torch.nn.Parameter(torch.zeros(1, output_size).float())\n",
    "\n",
    "        self.tanh = torch.nn.Tanh()\n",
    "        self.softmax = torch.nn.Softmax(dim=1)\n",
    "\n",
    "    def forward(self, x):\n",
    "        hidden = torch.zeros(self.layer_num, x.size(0), self.hidden_size).to(x.device)\n",
    "\n",
    "        u = torch.matmul(x, self.Wxh) + torch.matmul(hidden, self.Whh) + self.bh\n",
    "        hidden = self.tanh(u)\n",
    "        output = torch.matmul(hidden, self.Why) + self.by\n",
    "        output = self.softmax(output)\n",
    "        return output[:,-1]\n",
    "        \n",
    "mRNN2 = MultiRNN2(64, 13, 3, 35)\n",
    "summary(mRNN2, input_size=(256, 64))\n",
    "    "
   ]
  },
  {
   "cell_type": "markdown",
   "metadata": {},
   "source": [
    "# LSTM"
   ]
  },
  {
   "cell_type": "code",
   "execution_count": 7,
   "metadata": {},
   "outputs": [
    {
     "data": {
      "text/plain": [
       "==========================================================================================\n",
       "Layer (type:depth-idx)                   Output Shape              Param #\n",
       "==========================================================================================\n",
       "LSTM                                     [1, 13, 35]               4,056\n",
       "├─Sigmoid: 1-1                           [13, 1]                   --\n",
       "├─Sigmoid: 1-2                           [13, 1]                   --\n",
       "├─Tanh: 1-3                              [13, 1]                   --\n",
       "├─Sigmoid: 1-4                           [13, 1]                   --\n",
       "├─Tanh: 1-5                              [13, 13]                  --\n",
       "├─Linear: 1-6                            [1, 13, 35]               490\n",
       "==========================================================================================\n",
       "Total params: 4,546\n",
       "Trainable params: 4,546\n",
       "Non-trainable params: 0\n",
       "Total mult-adds (Units.MEGABYTES): 0.00\n",
       "==========================================================================================\n",
       "Input size (MB): 0.00\n",
       "Forward/backward pass size (MB): 0.00\n",
       "Params size (MB): 0.00\n",
       "Estimated Total Size (MB): 0.01\n",
       "=========================================================================================="
      ]
     },
     "execution_count": 7,
     "metadata": {},
     "output_type": "execute_result"
    }
   ],
   "source": [
    "# one layer LSTM without batch\n",
    "class LSTM(torch.nn.Module):\n",
    "    def __init__(self, input_size, hidden_size, output_size):\n",
    "        super(LSTM, self).__init__()\n",
    "        self.input_size = input_size\n",
    "        self.hidden_size = hidden_size\n",
    "        self.output_size = output_size\n",
    "\n",
    "        self.Wf = torch.nn.Parameter(torch.randn(hidden_size, hidden_size + input_size).float())\n",
    "        self.Wi = torch.nn.Parameter(torch.randn(hidden_size, hidden_size + input_size).float())\n",
    "        self.Wo = torch.nn.Parameter(torch.randn(hidden_size, hidden_size + input_size).float())\n",
    "        self.Wc = torch.nn.Parameter(torch.randn(hidden_size, hidden_size + input_size).float())\n",
    "        self.bf = torch.nn.Parameter(torch.zeros(hidden_size, 1).float())\n",
    "        self.bi = torch.nn.Parameter(torch.zeros(hidden_size, 1).float())\n",
    "        self.bo = torch.nn.Parameter(torch.zeros(hidden_size, 1).float())\n",
    "        self.bc = torch.nn.Parameter(torch.zeros(hidden_size, 1).float())\n",
    "\n",
    "        self.tanh = torch.nn.Tanh()\n",
    "        self.softmax = torch.nn.Softmax(dim=1)\n",
    "        self.sigmoid = torch.nn.Sigmoid()\n",
    "        self.fc = torch.nn.Linear(hidden_size, output_size)\n",
    "\n",
    "    def forward(self, x):\n",
    "        hidden = torch.zeros(x.size(0), self.hidden_size).to(x.device)\n",
    "        cell = torch.zeros(x.size(0), self.hidden_size).to(x.device)\n",
    "        outputs = []\n",
    "        for i in range(len(x)):\n",
    "            xt = x[i].reshape(-1, 1)\n",
    "            u = torch.cat((hidden, xt.T), 1).T\n",
    "            gf = self.sigmoid(torch.matmul(self.Wf, u) + self.bf)\n",
    "            cell1 = gf * cell\n",
    "            gi = self.sigmoid(torch.matmul(self.Wi, u) + self.bi)\n",
    "            cell = cell1 + gi * self.tanh(torch.matmul(self.Wc, u) + self.bc)\n",
    "            go = self.sigmoid(torch.matmul(self.Wo, u) + self.bo)\n",
    "            hidden = go * self.tanh(cell)\n",
    "            outputs.append(hidden)\n",
    "        outputs = torch.stack(outputs)\n",
    "        outputs = self.fc(outputs)\n",
    "        return outputs\n",
    "    \n",
    "lstm = LSTM(64, 13, 35)  \n",
    "summary(lstm, input_size=(1, 64))\n"
   ]
  },
  {
   "cell_type": "markdown",
   "metadata": {},
   "source": [
    "# GRU"
   ]
  },
  {
   "cell_type": "code",
   "execution_count": 26,
   "metadata": {},
   "outputs": [
    {
     "data": {
      "text/plain": [
       "==========================================================================================\n",
       "Layer (type:depth-idx)                   Output Shape              Param #\n",
       "==========================================================================================\n",
       "GRU                                      [1, 13, 35]               3,042\n",
       "├─Sigmoid: 1-1                           [13, 1]                   --\n",
       "├─Sigmoid: 1-2                           [13, 1]                   --\n",
       "├─Tanh: 1-3                              [13, 1]                   --\n",
       "├─Linear: 1-4                            [1, 13, 35]               490\n",
       "==========================================================================================\n",
       "Total params: 3,532\n",
       "Trainable params: 3,532\n",
       "Non-trainable params: 0\n",
       "Total mult-adds (Units.MEGABYTES): 0.00\n",
       "==========================================================================================\n",
       "Input size (MB): 0.00\n",
       "Forward/backward pass size (MB): 0.00\n",
       "Params size (MB): 0.00\n",
       "Estimated Total Size (MB): 0.01\n",
       "=========================================================================================="
      ]
     },
     "execution_count": 26,
     "metadata": {},
     "output_type": "execute_result"
    }
   ],
   "source": [
    "# one layer GRU without batch\n",
    "\n",
    "class GRU(torch.nn.Module):\n",
    "    def __init__(self, input_size, hidden_size, output_size):\n",
    "        super(GRU, self).__init__()\n",
    "        self.input_size = input_size\n",
    "        self.hidden_size = hidden_size\n",
    "        self.output_size = output_size\n",
    "\n",
    "        self.Wr = torch.nn.Parameter(torch.randn(hidden_size, hidden_size + input_size).float())\n",
    "        self.Wu = torch.nn.Parameter(torch.randn(hidden_size, hidden_size + input_size).float())\n",
    "        self.Wc = torch.nn.Parameter(torch.randn(hidden_size, hidden_size + input_size).float())\n",
    "        self.br = torch.nn.Parameter(torch.zeros(hidden_size, 1).float())\n",
    "        self.bu = torch.nn.Parameter(torch.zeros(hidden_size, 1).float())\n",
    "        self.bc = torch.nn.Parameter(torch.zeros(hidden_size, 1).float())\n",
    "\n",
    "        self.tanh = torch.nn.Tanh()\n",
    "        self.softmax = torch.nn.Softmax(dim=1)\n",
    "        self.sigmoid = torch.nn.Sigmoid()\n",
    "        self.fc = torch.nn.Linear(hidden_size, output_size)\n",
    "\n",
    "    def forward(self, x):\n",
    "        hidden = torch.zeros(x.size(0), self.hidden_size).to(x.device)\n",
    "        outputs = []\n",
    "        for i in range(len(x)):\n",
    "            xt = x[i].reshape(-1,1)\n",
    "            u = torch.cat((hidden, xt.T), 1).T\n",
    "            gu = self.sigmoid(torch.matmul(self.Wu, u) + self.bu)\n",
    "            gr = self.sigmoid(torch.matmul(self.Wr, u) + self.br)\n",
    "            r_hidden = gr * hidden.T\n",
    "            u_tilde = torch.cat((r_hidden, xt), 0)\n",
    "            hidden_tilde = self.tanh(torch.matmul(self.Wc, u_tilde) + self.bc)\n",
    "            hidden = gu * hidden_tilde + (1 - gu) * hidden\n",
    "            outputs.append(hidden)\n",
    "        outputs = torch.stack(outputs)\n",
    "        outputs = self.fc(outputs)\n",
    "        return outputs\n",
    "    \n",
    "gru = GRU(64, 13, 35)\n",
    "summary(gru, input_size=(1, 64))"
   ]
  },
  {
   "cell_type": "markdown",
   "metadata": {},
   "source": [
    "# Attention Mechanism"
   ]
  },
  {
   "cell_type": "code",
   "execution_count": 39,
   "metadata": {},
   "outputs": [
    {
     "data": {
      "text/plain": [
       "==========================================================================================\n",
       "Layer (type:depth-idx)                   Output Shape              Param #\n",
       "==========================================================================================\n",
       "ScaledDotProductAttention                [256, 64, 64]             --\n",
       "├─Linear: 1-1                            [256, 64, 64]             4,160\n",
       "├─Linear: 1-2                            [256, 64, 64]             4,160\n",
       "├─Linear: 1-3                            [256, 64, 64]             4,160\n",
       "├─Softmax: 1-4                           [256, 64, 64]             --\n",
       "==========================================================================================\n",
       "Total params: 12,480\n",
       "Trainable params: 12,480\n",
       "Non-trainable params: 0\n",
       "Total mult-adds (Units.MEGABYTES): 3.19\n",
       "==========================================================================================\n",
       "Input size (MB): 4.19\n",
       "Forward/backward pass size (MB): 25.17\n",
       "Params size (MB): 0.05\n",
       "Estimated Total Size (MB): 29.41\n",
       "=========================================================================================="
      ]
     },
     "execution_count": 39,
     "metadata": {},
     "output_type": "execute_result"
    }
   ],
   "source": [
    "# signle scaled dot-product attention\n",
    "class ScaledDotProductAttention(torch.nn.Module):\n",
    "    def __init__(self, input_size, masked = False):\n",
    "        super(ScaledDotProductAttention, self).__init__()\n",
    "        self.input_size = input_size\n",
    "        self.masked = masked\n",
    "        \n",
    "        self.Q = torch.nn.Linear(input_size, input_size) # batch_size, seq_len, input_size\n",
    "        self.K = torch.nn.Linear(input_size, input_size)\n",
    "        self.V = torch.nn.Linear(input_size, input_size)\n",
    "\n",
    "        self.softmax = torch.nn.Softmax(dim=1)\n",
    "\n",
    "    def forward(self, x): # x: batch_size, seq_len, input_size\n",
    "        Q = self.Q(x)\n",
    "        K = self.K(x)\n",
    "        V = self.V(x)\n",
    "\n",
    "        score = torch.bmm(Q, K.transpose(1, 2))\n",
    "        score = score / torch.sqrt(torch.tensor(K.size(1)).float())\n",
    "\n",
    "        mask = torch.randn(score.size()).to(score.device)\n",
    "        if self.masked:\n",
    "            score = score.masked_fill(mask == 0, -1e9)\n",
    "        attention = self.softmax(score)\n",
    "\n",
    "        output = torch.bmm(attention, V)\n",
    "        return output\n",
    "    \n",
    "att = ScaledDotProductAttention(64)\n",
    "summary(att, input_size=(256, 64, 64))\n",
    "\n"
   ]
  },
  {
   "cell_type": "code",
   "execution_count": null,
   "metadata": {},
   "outputs": [],
   "source": [
    "# multi-head attention\n",
    "\n",
    "        \n",
    "        "
   ]
  }
 ],
 "metadata": {
  "kernelspec": {
   "display_name": "ml_win",
   "language": "python",
   "name": "python3"
  },
  "language_info": {
   "codemirror_mode": {
    "name": "ipython",
    "version": 3
   },
   "file_extension": ".py",
   "mimetype": "text/x-python",
   "name": "python",
   "nbconvert_exporter": "python",
   "pygments_lexer": "ipython3",
   "version": "3.11.10"
  }
 },
 "nbformat": 4,
 "nbformat_minor": 2
}
